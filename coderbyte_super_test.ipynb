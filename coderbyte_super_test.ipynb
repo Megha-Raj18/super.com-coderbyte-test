{
 "cells": [
  {
   "cell_type": "code",
   "execution_count": 1,
   "id": "c1e99c5f",
   "metadata": {},
   "outputs": [],
   "source": [
    "import pandas as pd\n",
    "import re"
   ]
  },
  {
   "cell_type": "code",
   "execution_count": 2,
   "id": "00f24c51",
   "metadata": {},
   "outputs": [],
   "source": [
    "data = 'Airline Code;DelayTimes;FlightCodes;To_From\\nAir Canada (!);[21, 40];20015.0;WAterLoo_NEWYork\\n<Air France> (12);[];;Montreal_TORONTO\\n(Porter Airways. );[60, 22, 87];20035.0;CALgary_Ottawa\\n12. Air France;[78, 66];;Ottawa_VANcouvER\\n\"\"\".\\\\.Lufthansa.\\\\.\"\"\";[12, 33];20055.0;london_MONTreal\\n'"
   ]
  },
  {
   "cell_type": "code",
   "execution_count": 3,
   "id": "67122563",
   "metadata": {},
   "outputs": [],
   "source": [
    "rows = data.split('\\n') # getting each individual row for the table"
   ]
  },
  {
   "cell_type": "code",
   "execution_count": 4,
   "id": "6ddcc87e",
   "metadata": {},
   "outputs": [
    {
     "data": {
      "text/plain": [
       "['Airline Code;DelayTimes;FlightCodes;To_From',\n",
       " 'Air Canada (!);[21, 40];20015.0;WAterLoo_NEWYork',\n",
       " '<Air France> (12);[];;Montreal_TORONTO',\n",
       " '(Porter Airways. );[60, 22, 87];20035.0;CALgary_Ottawa',\n",
       " '12. Air France;[78, 66];;Ottawa_VANcouvER',\n",
       " '\"\"\".\\\\.Lufthansa.\\\\.\"\"\";[12, 33];20055.0;london_MONTreal',\n",
       " '']"
      ]
     },
     "execution_count": 4,
     "metadata": {},
     "output_type": "execute_result"
    }
   ],
   "source": [
    "rows"
   ]
  },
  {
   "cell_type": "code",
   "execution_count": 5,
   "id": "583e45c7",
   "metadata": {},
   "outputs": [
    {
     "data": {
      "text/plain": [
       "['Airline Code', 'DelayTimes', 'FlightCodes', 'To_From']"
      ]
     },
     "execution_count": 5,
     "metadata": {},
     "output_type": "execute_result"
    }
   ],
   "source": [
    "columns = rows[0].split(';') # im getting the column information from the first row of the stringified table here\n",
    "columns\n"
   ]
  },
  {
   "cell_type": "code",
   "execution_count": 6,
   "id": "ae64ec27",
   "metadata": {},
   "outputs": [
    {
     "name": "stdout",
     "output_type": "stream",
     "text": [
      "[['Air Canada (!)', '[21, 40]', '20015.0', 'WAterLoo_NEWYork'], ['<Air France> (12)', '[]', '', 'Montreal_TORONTO'], ['(Porter Airways. )', '[60, 22, 87]', '20035.0', 'CALgary_Ottawa'], ['12. Air France', '[78, 66]', '', 'Ottawa_VANcouvER'], ['\"\"\".\\\\.Lufthansa.\\\\.\"\"\"', '[12, 33]', '20055.0', 'london_MONTreal']]\n"
     ]
    }
   ],
   "source": [
    "column_vals = []\n",
    "for r in range(1, len(rows)): # getting all the comlumn values separately and printing them out just to see what were working with\n",
    "    col = []\n",
    "    for c in range(len(rows[r].split(';'))):\n",
    "        column_value = rows[r].split(';')[c]\n",
    "        col.append(column_value) # appending each individual column value to a list\n",
    "        \n",
    "    column_vals.append(col) #appending each column to a list column_vals which has all column values for the table\n",
    "column_vals.pop() # removing the last entry since its empty anyways\n",
    "print(column_vals)"
   ]
  },
  {
   "cell_type": "code",
   "execution_count": 7,
   "id": "f0ead85a",
   "metadata": {},
   "outputs": [],
   "source": [
    "# creating the dataframe\n",
    "df = pd.DataFrame((column_vals), columns = columns)\n"
   ]
  },
  {
   "cell_type": "code",
   "execution_count": 8,
   "id": "df849fe3",
   "metadata": {},
   "outputs": [
    {
     "data": {
      "text/html": [
       "<div>\n",
       "<style scoped>\n",
       "    .dataframe tbody tr th:only-of-type {\n",
       "        vertical-align: middle;\n",
       "    }\n",
       "\n",
       "    .dataframe tbody tr th {\n",
       "        vertical-align: top;\n",
       "    }\n",
       "\n",
       "    .dataframe thead th {\n",
       "        text-align: right;\n",
       "    }\n",
       "</style>\n",
       "<table border=\"1\" class=\"dataframe\">\n",
       "  <thead>\n",
       "    <tr style=\"text-align: right;\">\n",
       "      <th></th>\n",
       "      <th>Airline Code</th>\n",
       "      <th>DelayTimes</th>\n",
       "      <th>FlightCodes</th>\n",
       "      <th>To_From</th>\n",
       "    </tr>\n",
       "  </thead>\n",
       "  <tbody>\n",
       "    <tr>\n",
       "      <th>0</th>\n",
       "      <td>Air Canada (!)</td>\n",
       "      <td>[21, 40]</td>\n",
       "      <td>20015.0</td>\n",
       "      <td>WAterLoo_NEWYork</td>\n",
       "    </tr>\n",
       "    <tr>\n",
       "      <th>1</th>\n",
       "      <td>&lt;Air France&gt; (12)</td>\n",
       "      <td>[]</td>\n",
       "      <td></td>\n",
       "      <td>Montreal_TORONTO</td>\n",
       "    </tr>\n",
       "    <tr>\n",
       "      <th>2</th>\n",
       "      <td>(Porter Airways. )</td>\n",
       "      <td>[60, 22, 87]</td>\n",
       "      <td>20035.0</td>\n",
       "      <td>CALgary_Ottawa</td>\n",
       "    </tr>\n",
       "    <tr>\n",
       "      <th>3</th>\n",
       "      <td>12. Air France</td>\n",
       "      <td>[78, 66]</td>\n",
       "      <td></td>\n",
       "      <td>Ottawa_VANcouvER</td>\n",
       "    </tr>\n",
       "    <tr>\n",
       "      <th>4</th>\n",
       "      <td>\"\"\".\\.Lufthansa.\\.\"\"\"</td>\n",
       "      <td>[12, 33]</td>\n",
       "      <td>20055.0</td>\n",
       "      <td>london_MONTreal</td>\n",
       "    </tr>\n",
       "  </tbody>\n",
       "</table>\n",
       "</div>"
      ],
      "text/plain": [
       "            Airline Code    DelayTimes FlightCodes           To_From\n",
       "0         Air Canada (!)      [21, 40]     20015.0  WAterLoo_NEWYork\n",
       "1      <Air France> (12)            []              Montreal_TORONTO\n",
       "2     (Porter Airways. )  [60, 22, 87]     20035.0    CALgary_Ottawa\n",
       "3         12. Air France      [78, 66]              Ottawa_VANcouvER\n",
       "4  \"\"\".\\.Lufthansa.\\.\"\"\"      [12, 33]     20055.0   london_MONTreal"
      ]
     },
     "execution_count": 8,
     "metadata": {},
     "output_type": "execute_result"
    }
   ],
   "source": [
    "df #created a df from the string! its still dirty though :("
   ]
  },
  {
   "cell_type": "code",
   "execution_count": 9,
   "id": "a5522af8",
   "metadata": {},
   "outputs": [
    {
     "data": {
      "text/plain": [
       "Airline Code    object\n",
       "DelayTimes      object\n",
       "FlightCodes     object\n",
       "To_From         object\n",
       "dtype: object"
      ]
     },
     "execution_count": 9,
     "metadata": {},
     "output_type": "execute_result"
    }
   ],
   "source": [
    "df.dtypes"
   ]
  },
  {
   "cell_type": "code",
   "execution_count": 10,
   "id": "89364f98",
   "metadata": {},
   "outputs": [],
   "source": [
    "df['FlightCodes'] = pd.to_numeric(df['FlightCodes'], errors = 'coerce') #changing the type of the column to numercial so it doesnt give an error below"
   ]
  },
  {
   "cell_type": "code",
   "execution_count": 11,
   "id": "73d31f15",
   "metadata": {},
   "outputs": [
    {
     "data": {
      "text/html": [
       "<div>\n",
       "<style scoped>\n",
       "    .dataframe tbody tr th:only-of-type {\n",
       "        vertical-align: middle;\n",
       "    }\n",
       "\n",
       "    .dataframe tbody tr th {\n",
       "        vertical-align: top;\n",
       "    }\n",
       "\n",
       "    .dataframe thead th {\n",
       "        text-align: right;\n",
       "    }\n",
       "</style>\n",
       "<table border=\"1\" class=\"dataframe\">\n",
       "  <thead>\n",
       "    <tr style=\"text-align: right;\">\n",
       "      <th></th>\n",
       "      <th>Airline Code</th>\n",
       "      <th>DelayTimes</th>\n",
       "      <th>FlightCodes</th>\n",
       "      <th>To_From</th>\n",
       "    </tr>\n",
       "  </thead>\n",
       "  <tbody>\n",
       "    <tr>\n",
       "      <th>0</th>\n",
       "      <td>Air Canada (!)</td>\n",
       "      <td>[21, 40]</td>\n",
       "      <td>20015.0</td>\n",
       "      <td>WAterLoo_NEWYork</td>\n",
       "    </tr>\n",
       "    <tr>\n",
       "      <th>1</th>\n",
       "      <td>&lt;Air France&gt; (12)</td>\n",
       "      <td>[]</td>\n",
       "      <td>NaN</td>\n",
       "      <td>Montreal_TORONTO</td>\n",
       "    </tr>\n",
       "    <tr>\n",
       "      <th>2</th>\n",
       "      <td>(Porter Airways. )</td>\n",
       "      <td>[60, 22, 87]</td>\n",
       "      <td>20035.0</td>\n",
       "      <td>CALgary_Ottawa</td>\n",
       "    </tr>\n",
       "    <tr>\n",
       "      <th>3</th>\n",
       "      <td>12. Air France</td>\n",
       "      <td>[78, 66]</td>\n",
       "      <td>NaN</td>\n",
       "      <td>Ottawa_VANcouvER</td>\n",
       "    </tr>\n",
       "    <tr>\n",
       "      <th>4</th>\n",
       "      <td>\"\"\".\\.Lufthansa.\\.\"\"\"</td>\n",
       "      <td>[12, 33]</td>\n",
       "      <td>20055.0</td>\n",
       "      <td>london_MONTreal</td>\n",
       "    </tr>\n",
       "  </tbody>\n",
       "</table>\n",
       "</div>"
      ],
      "text/plain": [
       "            Airline Code    DelayTimes  FlightCodes           To_From\n",
       "0         Air Canada (!)      [21, 40]      20015.0  WAterLoo_NEWYork\n",
       "1      <Air France> (12)            []          NaN  Montreal_TORONTO\n",
       "2     (Porter Airways. )  [60, 22, 87]      20035.0    CALgary_Ottawa\n",
       "3         12. Air France      [78, 66]          NaN  Ottawa_VANcouvER\n",
       "4  \"\"\".\\.Lufthansa.\\.\"\"\"      [12, 33]      20055.0   london_MONTreal"
      ]
     },
     "execution_count": 11,
     "metadata": {},
     "output_type": "execute_result"
    }
   ],
   "source": [
    "df"
   ]
  },
  {
   "cell_type": "code",
   "execution_count": null,
   "id": "8df4fa44",
   "metadata": {},
   "outputs": [],
   "source": [
    "#creating a function to clean up Airline codes using regex expressions\n",
    "\n",
    "def clean_up(line):\n",
    "    return re.sub(r'[^a-zA-Z\\s]', '', line).strip()\n",
    "\n",
    "df['Airline Code'] = df['Airline Code'].apply(clean_up)\n",
    "\n",
    "#function to fill in the missing flight code values\n",
    "\n",
    "def fill_missing_codes(df, col):\n",
    "    for i in range(1, len(df)):\n",
    "        if pd.isna(df[col].iloc[i]) : #if value in any cell is empty\n",
    "            df[col].iloc[i] = df[col].iloc[i - 1] + 10 # fill in empty spots with the previous cell value incremented by 10 as requested\n",
    "    return df\n",
    "\n",
    "df = fill_missing_codes(df, 'FlightCodes')\n",
    "df['FlightCodes'] = df['FlightCodes'].astype(int)\n",
    "\n",
    "\n",
    "df['To_From'] = df['To_From'].apply(str.upper) # make the city names capital for readability\n",
    "\n",
    "# separate to_from column\n",
    "\n",
    "df[['To','From']] = df[\"To_From\"].str.split('_', expand = True)\n",
    "df.drop(columns = [\"To_From\"], inplace = True)\n"
   ]
  },
  {
   "cell_type": "code",
   "execution_count": 13,
   "id": "37bf57f3",
   "metadata": {},
   "outputs": [
    {
     "data": {
      "text/html": [
       "<div>\n",
       "<style scoped>\n",
       "    .dataframe tbody tr th:only-of-type {\n",
       "        vertical-align: middle;\n",
       "    }\n",
       "\n",
       "    .dataframe tbody tr th {\n",
       "        vertical-align: top;\n",
       "    }\n",
       "\n",
       "    .dataframe thead th {\n",
       "        text-align: right;\n",
       "    }\n",
       "</style>\n",
       "<table border=\"1\" class=\"dataframe\">\n",
       "  <thead>\n",
       "    <tr style=\"text-align: right;\">\n",
       "      <th></th>\n",
       "      <th>Airline Code</th>\n",
       "      <th>DelayTimes</th>\n",
       "      <th>FlightCodes</th>\n",
       "      <th>To</th>\n",
       "      <th>From</th>\n",
       "    </tr>\n",
       "  </thead>\n",
       "  <tbody>\n",
       "    <tr>\n",
       "      <th>0</th>\n",
       "      <td>Air Canada</td>\n",
       "      <td>[21, 40]</td>\n",
       "      <td>20015</td>\n",
       "      <td>WATERLOO</td>\n",
       "      <td>NEWYORK</td>\n",
       "    </tr>\n",
       "    <tr>\n",
       "      <th>1</th>\n",
       "      <td>Air France</td>\n",
       "      <td>[]</td>\n",
       "      <td>20025</td>\n",
       "      <td>MONTREAL</td>\n",
       "      <td>TORONTO</td>\n",
       "    </tr>\n",
       "    <tr>\n",
       "      <th>2</th>\n",
       "      <td>Porter Airways</td>\n",
       "      <td>[60, 22, 87]</td>\n",
       "      <td>20035</td>\n",
       "      <td>CALGARY</td>\n",
       "      <td>OTTAWA</td>\n",
       "    </tr>\n",
       "    <tr>\n",
       "      <th>3</th>\n",
       "      <td>Air France</td>\n",
       "      <td>[78, 66]</td>\n",
       "      <td>20045</td>\n",
       "      <td>OTTAWA</td>\n",
       "      <td>VANCOUVER</td>\n",
       "    </tr>\n",
       "    <tr>\n",
       "      <th>4</th>\n",
       "      <td>Lufthansa</td>\n",
       "      <td>[12, 33]</td>\n",
       "      <td>20055</td>\n",
       "      <td>LONDON</td>\n",
       "      <td>MONTREAL</td>\n",
       "    </tr>\n",
       "  </tbody>\n",
       "</table>\n",
       "</div>"
      ],
      "text/plain": [
       "     Airline Code    DelayTimes  FlightCodes        To       From\n",
       "0      Air Canada      [21, 40]        20015  WATERLOO    NEWYORK\n",
       "1      Air France            []        20025  MONTREAL    TORONTO\n",
       "2  Porter Airways  [60, 22, 87]        20035   CALGARY     OTTAWA\n",
       "3      Air France      [78, 66]        20045    OTTAWA  VANCOUVER\n",
       "4       Lufthansa      [12, 33]        20055    LONDON   MONTREAL"
      ]
     },
     "execution_count": 13,
     "metadata": {},
     "output_type": "execute_result"
    }
   ],
   "source": [
    "# cleaned dataset!!\n",
    "df"
   ]
  },
  {
   "cell_type": "code",
   "execution_count": null,
   "id": "8842ccde",
   "metadata": {},
   "outputs": [],
   "source": []
  }
 ],
 "metadata": {
  "kernelspec": {
   "display_name": "base",
   "language": "python",
   "name": "python3"
  },
  "language_info": {
   "codemirror_mode": {
    "name": "ipython",
    "version": 3
   },
   "file_extension": ".py",
   "mimetype": "text/x-python",
   "name": "python",
   "nbconvert_exporter": "python",
   "pygments_lexer": "ipython3",
   "version": "3.9.13"
  }
 },
 "nbformat": 4,
 "nbformat_minor": 5
}
